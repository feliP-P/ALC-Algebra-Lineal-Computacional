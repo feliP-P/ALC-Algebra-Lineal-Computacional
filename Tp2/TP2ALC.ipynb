{
  "nbformat": 4,
  "nbformat_minor": 0,
  "metadata": {
    "colab": {
      "provenance": []
    },
    "kernelspec": {
      "name": "python3",
      "display_name": "Python 3"
    },
    "language_info": {
      "name": "python"
    }
  },
  "cells": [
    {
      "cell_type": "markdown",
      "source": [
        "# Trabajo práctico 2\n",
        "**Algebra Lineal computacional, 2do cuatrimestre 2023, Universidad de Buenos Aires**\n",
        "\n",
        "Tobias Llop, LU 871/22\n",
        "\n",
        "Felipe Pasquet, LU 1084/22\n"
      ],
      "metadata": {
        "id": "CfXivWzwWD8y"
      }
    },
    {
      "cell_type": "markdown",
      "source": [
        "## Ejercicio 1"
      ],
      "metadata": {
        "id": "AUDG5UWTYFb0"
      }
    },
    {
      "cell_type": "markdown",
      "source": [
        "### a) importamos los datos"
      ],
      "metadata": {
        "id": "CipeQBIHYJ83"
      }
    },
    {
      "cell_type": "code",
      "source": [
        "#Importamos librerias\n",
        "import pandas as pd\n",
        "import numpy as np\n",
        "import matplotlib.pyplot as plt\n",
        "import time\n",
        "from sklearn.model_selection import train_test_split"
      ],
      "metadata": {
        "id": "u7NJ-Zc8YCkB"
      },
      "execution_count": 1,
      "outputs": []
    },
    {
      "cell_type": "code",
      "source": [
        "#Importamos los datos\n",
        "from google.colab import drive\n",
        "drive.mount('/content/drive')\n",
        "data = pd.read_csv('/content/drive/MyDrive/Colab Notebooks/wine.csv')"
      ],
      "metadata": {
        "id": "F5NqvvwnYZqZ",
        "colab": {
          "base_uri": "https://localhost:8080/",
          "height": 339
        },
        "outputId": "817cbc82-6b58-4f4d-ab93-e7b27780d6e4"
      },
      "execution_count": 3,
      "outputs": [
        {
          "output_type": "stream",
          "name": "stdout",
          "text": [
            "Mounted at /content/drive\n"
          ]
        },

    {
      "cell_type": "markdown",
      "source": [
        "### b) separamos nuestros datos en las variables dependientes (X) e independientes (Y)."
      ],
      "metadata": {
        "id": "rzWOtezWY6mD"
      }
    },
    {
      "cell_type": "code",
      "source": [
        "y = data['Customer_Segment']\n",
        "X = data.drop(columns='Customer_Segment')"
      ],
      "metadata": {
        "id": "DduF0TrpZDXc"
      },
      "execution_count": null,
      "outputs": []
    },
    {
      "cell_type": "markdown",
      "source": [
        "### c) Normalización\n",
        "A continuación normalizaremos nuestras variables dependientes $x_i$, para ello diseñamos distintas funciones que se basan en las siguientes fórmulas mátematicas:\n",
        "\n",
        "$ s = \\sqrt{\\frac{1}{N-1} \\sum_{i=1}^{N} (X_i - \\overline{X})^2}$\n",
        "\n",
        "$\\overline{X} = \\frac{1}{N} \\sum_{i=1}^{N} X_i$\n",
        "\n",
        "$x_i = \\frac{X_i - \\overline{X}}{s}$\n",
        "\n",
        "donde $s$ es el desvío estandar, implementado en nuestra funcíon *desvio*, $\\overline{X}$ es el promedio de cada variable dependiente y está implementado en nuestra función  *promedio*. Por último la función $x_i$ es la fórmula que normaliza y centra nuestras variables y está implementada en la función *normalizar*."
      ],
      "metadata": {
        "id": "IOoVmvMh1hm7"
      }
    },
    {
      "cell_type": "code",
      "source": [
        "# creamos funciones para calcular el promedio y la desviacion estandar\n",
        "def promedio(x):\n",
        "    res = 0\n",
        "    for i in x:\n",
        "        res += i\n",
        "    return res/len(x)\n",
        "\n",
        "def desviacion(x):\n",
        "    res = 0\n",
        "    for i in x:\n",
        "        res += (i-promedio(x))**2\n",
        "    return np.sqrt(res/(len(x)-1))\n",
        "\n",
        "def normalizar(x):\n",
        "    return (x-promedio(x))/desviacion(x)"
      ],
      "metadata": {
        "id": "am0ltQc11l-_"
      },
      "execution_count": null,
      "outputs": []
    },
    {
      "cell_type": "markdown",
      "source": [
        "A continuación utilizaremos las funciones anteriores y normalizaremos nuestras variables dependientes. Este paso es importante ya que a la hora de comparar nuestras variables deben estar escaladas, sino aquellas variables cuya escala sea mayor dominarán al resto."
      ],
      "metadata": {
        "id": "oRwbDW8i5ll1"
      }
    },
    {
      "cell_type": "code",
      "source": [
        "var_dependientes_normalizados = X.copy()\n",
        "for x in var_dependientes_normalizados.columns:\n",
        "    var_dependientes_normalizados[x] = normalizar(var_dependientes_normalizados[x])\n",
        "var_dependientes_normalizados_mat = var_dependientes_normalizados.to_numpy()"
      ],
      "metadata": {
        "id": "nGK0yv1J54Gh"
      },
      "execution_count": null,
      "outputs": []
    },
    {
      "cell_type": "markdown",
      "source": [
        "### d) Matriz de covarianza\n",
        "El siguiente paso que realizaremos con nuestras variables dependientes será calcular su matriz de covarianza. La matriz de covarianza es una matriz cuadrada que contiene la covarianza entre los elementos de un vector. En este caso contendrá la covarianza entre nuestras 13 variables dependientes y será de dimensión $13\\times13$.\n",
        "\n",
        "Esta matriz cumple distintas propiedades:\n",
        "1. Es simétrica\n",
        "2. Los elementos de la diagonal principal de la matriz de covarianza representan las varianzas de las variables individuales\n",
        "3. Los elementos fuera de la diagonal principal representan las covarianzas entre las diferentes variables. Un valor positivo indica una relación positiva, un valor negativo indica una relación negativa, y un valor cercano a cero indica una relación débil o nula entre las variables.\n",
        "\n",
        "Calcularemos la matriz de covarianza utilizando la función predefinida *numpy.cov()* de la biblioteca numpy.\n"
      ],
      "metadata": {
        "id": "-stlrZDd8D2k"
      }
    },
    {
      "cell_type": "code",
      "source": [
        "def covarianza(data):\n",
        "    num_variables = len(data[0])\n",
        "    num_observaciones = len(data)\n",
        "\n",
        "    # Calculamos la media de cada variable\n",
        "    means = [sum(variable) / num_observaciones for variable in zip(*data)]\n",
        "\n",
        "    # Inicializamos la matriz de covarianza con ceros\n",
        "    res = np.zeros((num_variables,num_variables))\n",
        "\n",
        "    # Calculamos los términos de la matriz de covarianza\n",
        "    for i in range(num_variables):\n",
        "        for j in range(num_variables):\n",
        "            res[i][j] = sum((data[k][i] - means[i]) * (data[k][j] - means[j]) for k in range(num_observaciones)) / (num_observaciones - 1)\n",
        "    return res\n",
        "\n",
        "# Calculamos la matriz de covarianza\n",
        "matriz_covarianza = covarianza(var_dependientes_normalizados_mat)"
      ],
      "metadata": {
        "id": "EpicA3c-9LHS"
      },
      "execution_count": null,
      "outputs": []
    },
    {
      "cell_type": "markdown",
      "source": [
        "### e) Método de la potencia\n",
        "Nuestro siguiente objetivo es encontrar el máximo de los autovalores, y su correspondiente autovector, de la matriz de covarianza hallada en el item anterior.\n",
        "\n",
        "Para ello utilizaremos el conocido **método de la potencia**.\n",
        "\n",
        "Diseñamos la  función `metodo_potencia` que toma como entrada la matriz $A$ y un vector inicial $v_0$.  Definimos criterio para detener las iteraciones del método a la iteración en la que la diferencia absoluta entre dos valores propios sucesivos sea menor que $1 \\times 10^{-8}$.\n",
        "\n",
        "La función devuelve el valor propio dominante `r_actual` como el máximo autovalor $\\lambda$ y a su autovector asociado correspondiente $v$."
      ],
      "metadata": {
        "id": "ApPh5ZNS-Cwz"
      }
    },
    {
      "cell_type": "code",
      "source": [
        "def metodo_potencia(A, x0):\n",
        "    x = x0\n",
        "    r_ant = 0\n",
        "    while True:\n",
        "        x_nuevo = (A @ x) / np.linalg.norm(A @ x) #Multiplicamos A por x y normalizamos\n",
        "        r_actual = x_nuevo @ A @ x_nuevo # Calculamos el autovalor actual\n",
        "        if np.abs(r_actual - r_ant) < 1e-8:\n",
        "            break\n",
        "        x = x_nuevo\n",
        "        r_ant = r_actual\n",
        "    return x, r_actual\n",
        "\n",
        "#Definimos un vector random de R^13 para inicializar el método de la potencia.\n",
        "x0 = np.random.rand(13)\n",
        "\n",
        "#Ejecutamos el metodo de la potencia para nuestra matriz de covarianza\n",
        "autovector, autovalor = metodo_potencia(matriz_covarianza, x0)\n",
        "print(\"Autovector:\", autovector)\n",
        "print(\"Autovalor máximo:\", autovalor)"
      ],
      "metadata": {
        "colab": {
          "base_uri": "https://localhost:8080/"
        },
        "id": "SNG8BUUG-FbA",
        "outputId": "d94124de-465c-449d-fa7e-374d31df3d9e"
      },
      "execution_count": null,
      "outputs": [
        {
          "output_type": "stream",
          "name": "stdout",
          "text": [
            "Autovector: [ 0.14436062 -0.24517306 -0.00203064 -0.23932108  0.14201139  0.39466505\n",
            "  0.42293408 -0.29853124  0.31343203 -0.08858249  0.29669654  0.37615679\n",
            "  0.28677578]\n",
            "Autovalor máximo: 4.705850250398076\n"
          ]
        }
      ]
    },
    {
      "cell_type": "markdown",
      "source": [
        "### f) n maximos (Preguntar por lo ultimo)\n",
        "A continuación hallaremos no solo el autovalor máximo y su correspondiente autovector, sino que ampliaremos el método de la potencia para que calcule sus $n$ autovalores máximos y autovectores correspondientes sucesivos.\n",
        "\n",
        "Para ello, definimos nuestra función `n_maximos` que toma como valores de entrada a la matriz de covarianza, un vector de $ℝ^{13}$ para inicializar el método de la potencia y un entero $n$ que indica los $n$ autovalores y autovectores máximos que querramos. Luego devuelve dos listas, una con los autovalores y otra con los autovectores."
      ],
      "metadata": {
        "id": "ts7DhoO_FiBx"
      }
    },
    {
      "cell_type": "code",
      "source": [
        "def n_maximos(A, x0, n):\n",
        "    autovalores = []\n",
        "    autovectores = []\n",
        "    for i in range(n):\n",
        "      x, r_actual = metodo_potencia(A,x0)\n",
        "      # Guardamos el aval y avec maximo\n",
        "      autovalores.append(r_actual)\n",
        "      autovectores.append(x)\n",
        "      # Deflacionamos la matriz A\n",
        "      A = A - r_actual * np.outer(x, x)\n",
        "    return autovalores, autovectores"
      ],
      "metadata": {
        "id": "HJ2zQ2PNEpo0"
      },
      "execution_count": null,
      "outputs": []
    },
    {
      "cell_type": "markdown",
      "source": [
        "La cantidad de autovalores de nuestra matriz de covarianza es la misma que la cantidad de propiedades de los vinos.\n",
        "\n",
        "Cada autovector de la matriz de covarianza son distintas direcciones en las que se mueven nuestros datos."
      ],
      "metadata": {
        "id": "rx20niSaHYwA"
      }
    },
    {
      "cell_type": "markdown",
      "source": [
        "### g) Clasificación\n",
        "\n",
        "La idea del siguiente punto es que, dado un conjunto de características de un vino en particular, obtener su clasificación, es decir, a qué segmento de cliente pertenece. Para ello utilizaremos la función `clasificarVino`, que recibe un vector de $1\\times 13$ asociado a las caracteristicas de un vino, una matriz $W$ de componentes principales de nuestros datos y un número $k$ asociado a la cantidad de vecinos más cercanos con la que queremos realizar el algoritmo knn. La función va a devolver un número dentro del intervalo [1,2,3] asociado a la clasificación del segmento de cliente al que pertenecen las características del vino particular.\n"
      ],
      "metadata": {
        "id": "wBPspQvzO30t"
      }
    },
    {
      "cell_type": "code",
      "source": [
        "#Busco las 13 componentes principales\n",
        "x0 = np.random.rand(13)\n",
        "autovalores, autovectores = n_maximos(matriz_covarianza,x0,13)\n",
        "\n",
        "#Ponemos a cada componente principal como columna de nustra matriz W\n",
        "def armar_W(n, avecs):\n",
        "  W = np.zeros((13,n))\n",
        "  for i in range(13):\n",
        "      for j in range(n):\n",
        "          v = avecs[j]\n",
        "          W[i][j] = v[i]\n",
        "  return W\n",
        "#Armamos nuestra matriz con 13 componentes principales\n",
        "W = armar_W(13, autovectores)\n",
        "def distancia(v1,v2):\n",
        "  return np.linalg.norm(v1 - v2)\n",
        "\n",
        "#Funcion para acceder a la posicion de una observacion de train en nuestros datos originales\n",
        "def posicion(x, df):\n",
        "    res = -1\n",
        "    for i in range(len(df)):\n",
        "      if np.array_equal(df[i], x):\n",
        "        res = i\n",
        "    return res\n",
        "\n",
        "def clasificarVino(x,W,k,data):\n",
        " # x = normalizar(x) #Normalizo los datos del vino\n",
        "  T = data@W #Proyectamos todos los datos sobre nuestras componentes principales\n",
        "  vino = x@W #Proyectamos los datos de las caracteristicas del nuevo vino sobre nuestras componentes principales\n",
        "  distancias = [] #Inicializamos una lista donde guardaremos todas las distancias euclideas\n",
        "  ap_1 = 0\n",
        "  ap_2 = 0\n",
        "  ap_3 = 0\n",
        "  res = 0\n",
        "  for i in range(len(T)):\n",
        "      #Guardamos las distancias y la posición en la que se encontraba en nuestros datos\n",
        "      distancias.append((distancia(T[i], vino), posicion(data[i], var_dependientes_normalizados_mat)))\n",
        "  #Ordenamos las distancias para que primero se encuentren las más cercanas\n",
        "  distancias.sort(key=lambda distancias: distancias[0])\n",
        "  #Contamos apariciones\n",
        "  for i in range(k):\n",
        "    if y[distancias[i][1]] == 1.0:\n",
        "      ap_1 += 1\n",
        "    elif y[distancias[i][1]] == 2.0:\n",
        "      ap_2 += 1\n",
        "    elif y[distancias[i][1]] == 3.0:\n",
        "      ap_3 += 1\n",
        "  #Vemos quien tiene más apariciones\n",
        "  if ap_3 >= ap_2 and ap_3 >= ap_1:\n",
        "      res = 3.0\n",
        "  elif ap_2 >= ap_3 and ap_2 >= ap_1:\n",
        "      res = 2.0\n",
        "  elif ap_1 >= ap_2 and ap_1 >= ap_3:\n",
        "      res = 1.0\n",
        "  #Devolvemos la clase mas representada entre los k vecinos\n",
        "  return res\n",
        "\n",
        "#Ejemplo\n",
        "x = np.array([13.0, 1.72, 2.13, 11.0, 109, 2.70, 3.06, 0.32, 2.40, 8.0, 1.04, 3.90, 1185])\n",
        "x = normalizar(x) #Normalizo los datos de mi vino\n",
        "#knn con 1 vecino\n",
        "print(clasificarVino(x,W, 1, var_dependientes_normalizados_mat))"
      ],
      "metadata": {
        "id": "9rbTdB6LO6N9",
        "colab": {
          "base_uri": "https://localhost:8080/"
        },
        "outputId": "bdb02994-3a2e-411c-bd94-a1cd63398acd"
      },
      "execution_count": null,
      "outputs": [
        {
          "output_type": "stream",
          "name": "stdout",
          "text": [
            "1.0\n"
          ]
        }
      ]
    },
    {
      "cell_type": "markdown",
      "source": [
        "## Ejercicio 2\n",
        "primero dividimos nuestros datos en entrenamiento y testeo.\n"
      ],
      "metadata": {
        "id": "sdgOYmfjNizI"
      }
    },
    {
      "cell_type": "code",
      "source": [
        "#dividimos nuestro dataset en Train (80%) y test (20%)\n",
        "train, test = train_test_split(var_dependientes_normalizados_mat, test_size=0.2)"
      ],
      "metadata": {
        "id": "wRlPhHgxeiie"
      },
      "execution_count": null,
      "outputs": []
    },
    {
      "cell_type": "markdown",
      "source": [
        "### a) Varianza explicada\n",
        "Para la siguiente consigna calculamos la varianza explicada de cada autovalor de nuestra matriz de covarianza. A continuación se puede ver una tabla donde se resumen los resultados:\n",
        "\n",
        "<table>\n",
        "  <thead>\n",
        "    <tr>\n",
        "      <th>Modelo PCA</th>\n",
        "      <th>Componente</th>\n",
        "      <th>Varianza explicada</th>\n",
        "      <th>Porcentaje</th>\n",
        "      <th>Acumulado</th>\n",
        "    </tr>\n",
        "  </thead>\n",
        "  <tbody>\n",
        "    <tr>\n",
        "      <td>1 componente principal</td>\n",
        "      <td>1</td>\n",
        "      <td>0.35</td>\n",
        "      <td>35%</td>\n",
        "      <td>35%</td>\n",
        "    </tr>\n",
        "    <tr>\n",
        "      <td>2 componentes principales</td>\n",
        "      <td>1</td>\n",
        "      <td>0.35</td>\n",
        "      <td>35%</td>\n",
        "      <td>35%</td>\n",
        "    </tr>\n",
        "      <tr>\n",
        "      <td>2 componentes principales</td>\n",
        "      <td>2</td>\n",
        "      <td>0.20</td>\n",
        "      <td>20%</td>\n",
        "      <td>55%</td>\n",
        "    </tr>\n",
        "        <tr>\n",
        "      <td>3 componentes principales</td>\n",
        "      <td>1</td>\n",
        "      <td>0.35</td>\n",
        "      <td>35%</td>\n",
        "      <td>35%</td>\n",
        "    </tr>\n",
        "      <tr>\n",
        "      <td>3 componentes principales</td>\n",
        "      <td>2</td>\n",
        "      <td>0.20</td>\n",
        "      <td>35%</td>\n",
        "      <td>55%</td>\n",
        "    </tr>\n",
        "        </tr>\n",
        "      <tr>\n",
        "      <td>3 componentes principales</td>\n",
        "      <td>3</td>\n",
        "      <td>0.11</td>\n",
        "      <td>11%</td>\n",
        "      <td>66%</td>\n",
        "    </tr>\n",
        "            <tr>\n",
        "      <td>3 componentes principales</td>\n",
        "      <td>1</td>\n",
        "      <td>0.35</td>\n",
        "      <td>35%</td>\n",
        "      <td>35%</td>\n",
        "    </tr>\n",
        "      <tr>\n",
        "      <td>3 componentes principales</td>\n",
        "      <td>2</td>\n",
        "      <td>0.20</td>\n",
        "      <td>35%</td>\n",
        "      <td>55%</td>\n",
        "    </tr>\n",
        "        </tr>\n",
        "      <tr>\n",
        "      <td>3 componentes principales</td>\n",
        "      <td>3</td>\n",
        "      <td>0.11</td>\n",
        "      <td>11%</td>\n",
        "      <td>66%</td>\n",
        "    </tr>\n",
        "      <tr>\n",
        "      <td>4 componentes principales</td>\n",
        "      <td>4</td>\n",
        "      <td>0.07</td>\n",
        "      <td>7%</td>\n",
        "      <td>73%</td>\n",
        "    </tr>\n",
        "  </tbody>\n",
        "</table>\n",
        "\n"
      ],
      "metadata": {
        "id": "wAkFILZPTQGx"
      }
    },
    {
      "cell_type": "code",
      "source": [
        "matriz_covarianza_train = covarianza(train)\n",
        "#Calculamos la varianza explicada para cada autovalor de nuestra matriz W de autovectores.\n",
        "x0 = np.random.rand(13)\n",
        "autovalores_t, autovectores_t = n_maximos(matriz_covarianza_train,x0,13)\n",
        "varianza_explicada = [autovalor / np.sum(autovalores_t) for autovalor in autovalores_t]\n",
        "print(varianza_explicada)"
      ],
      "metadata": {
        "colab": {
          "base_uri": "https://localhost:8080/"
        },
        "id": "1z2c1C_ATnRZ",
        "outputId": "d65a9340-b53a-4e89-b7f6-86957bb75ded"
      },
      "execution_count": null,
      "outputs": [
        {
          "output_type": "stream",
          "name": "stdout",
          "text": [
            "[0.3670826762956906, 0.19575014231037435, 0.0930091196261962, 0.078380751883243, 0.07135306646333096, 0.04786299337466829, 0.04361786677483786, 0.025283303327794496, 0.022390921438495397, 0.018923114993723643, 0.017902197496809057, 0.012170923700036824, 0.006272922314799473]\n"
          ]
        }
      ]
    },
    {
      "cell_type": "markdown",
      "source": [
        "### b) Comparación de modelos\n",
        "Para evaluar la performance de nuestros modelos, decidimos utilizar como medida la Accuracy, para ello definimos la funcion accuracy que calcula la cantidad de aciertos de nuestro modelo sobre el total de muestras en el conjunto de test."
      ],
      "metadata": {
        "id": "LBsFmnIrd96F"
      }
    },
    {
      "cell_type": "code",
      "source": [
        "#Armo mi matriz W con 2 componentes\n",
        "W = armar_W(2, autovectores_t)\n",
        "\n",
        "#Funcion de accuracy.\n",
        "def accuracy():\n",
        "  le_pego = 0 #Aciertos\n",
        "  no_le_pego = 0 #Desaciertos\n",
        "  for i in range(len(test)):\n",
        "    if clasificarVino(test[i],W, 1, train) == y[posicion(test[i], var_dependientes_normalizados_mat)]: #Usamos KNN con 1 vecino\n",
        "      le_pego +=1\n",
        "    else:\n",
        "      no_le_pego += 1\n",
        "  res = le_pego / (no_le_pego + le_pego)\n",
        "  return res\n",
        "accuracy()"
      ],
      "metadata": {
        "colab": {
          "base_uri": "https://localhost:8080/"
        },
        "id": "kE0On_bUku7w",
        "outputId": "141100c2-c2c9-4c6d-e1c0-d7c3d7fb885b"
      },
      "execution_count": null,
      "outputs": [
        {
          "output_type": "execute_result",
          "data": {
            "text/plain": [
              "0.9722222222222222"
            ]
          },
          "metadata": {},
          "execution_count": 273
        }
      ]
    },
    {
      "cell_type": "markdown",
      "source": [
        "Luego, decidimos comparar valores de accuracy para distintas cantidades de componentes en nuestra matriz $W$. Para ello guardamos los datos de 20 modelos con 1,2,3 y 4 componentes en una matriz y promediamos los datos."
      ],
      "metadata": {
        "id": "kzdhhyeVJIOG"
      }
    },
    {
      "cell_type": "code",
      "source": [
        "#Creamos una matriz donde almacenaremos las accuracy para distintos modelos y componentes\n",
        "matriz_acu = np.zeros((20,4))\n",
        "i = 0\n",
        "x0 = np.random.rand(13)\n",
        "while i < 20:\n",
        "  train, test = train_test_split(var_dependientes_normalizados_mat, test_size=0.2)\n",
        "  matriz_covarianza_train = covarianza(train)\n",
        "  autovalores_t2, autovectores_t2 = n_maximos(matriz_covarianza_train,x0,4)\n",
        "  for j in range(4):\n",
        "    W = armar_W(j, autovectores_t2)\n",
        "    matriz_acu[i][j] = accuracy()\n",
        "  i +=1"
      ],
      "metadata": {
        "id": "QB6agNUmoDzg"
      },
      "execution_count": null,
      "outputs": []
    },
    {
      "cell_type": "code",
      "source": [
        "promedios = []\n",
        "for j in range(4):\n",
        "    suma = 0\n",
        "    for i in range(20):\n",
        "        suma += matriz_acu[i][j]\n",
        "    promedios.append(suma/matriz_acu.shape[0])\n",
        "print(promedios)"
      ],
      "metadata": {
        "colab": {
          "base_uri": "https://localhost:8080/"
        },
        "id": "r9u-2ZAyuSfi",
        "outputId": "e39141bd-78cb-41a0-c62f-34b513296683"
      },
      "execution_count": null,
      "outputs": [
        {
          "output_type": "stream",
          "name": "stdout",
          "text": [
            "[0.37361111111111117, 0.798611111111111, 0.9472222222222222, 0.9361111111111112]\n"
          ]
        }
      ]
    },
    {
      "cell_type": "code",
      "source": [
        "#Graficamos\n",
        "plt.plot([1,2,3,4],promedios)\n",
        "plt.title('Promedio de la Accuracy de 20 modelos')\n",
        "plt.xlabel('componentes')\n",
        "plt.ylabel('accuracy')\n",
        "plt.show()"
      ],
      "metadata": {
        "id": "7VuiOmT3si2U",
        "colab": {
          "base_uri": "https://localhost:8080/",
          "height": 472
        },
        "outputId": "41c4a9c5-d275-4eaa-ff7c-46094b207082"
      },
      "execution_count": null,
      "outputs": [
        {
          "output_type": "display_data",
          "data": {
            "text/plain": [
              "<Figure size 640x480 with 1 Axes>"
            ],
            "image/png": "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\n"
          },
          "metadata": {}
        }
      ]
    },
    {
      "cell_type": "markdown",
      "source": [
        "En el gráfico, Vemos que efectivamente, sucede lo que suponiamos. Usar dos o tres componentes presenta una mejora frente a usar una sola, pero a partir de la cuarta componente, el rendimiento/efectividad de nuestros modelos empieza a bajar.\n",
        "\n",
        "A continuación veremos con cuantas componentes nuestro modelo es más eficiente y presenta menor complejidad a la hora de clasificar, para finalmente tomar una decisión"
      ],
      "metadata": {
        "id": "eN4neXIX6TmH"
      }
    },
    {
      "cell_type": "code",
      "source": [
        "#Buscamos las comp. principales\n",
        "x0 = np.random.rand(13)\n",
        "autovalores, autovectores = n_maximos(matriz_covarianza,x0,13)\n",
        "#Ejemplo vino\n",
        "x = np.array([13.0, 1.72, 2.13, 11.0, 109, 2.70, 3.06, 0.32, 2.40, 8.0, 1.04, 3.90, 1185])\n",
        "x = normalizar(x)\n",
        "for i in range(1,5):\n",
        "  inicio = time.time()\n",
        "  W = armar_W(i, autovectores)\n",
        "  clasificarVino(x,W,5,var_dependientes_normalizados_mat)\n",
        "  fin = time.time()\n",
        "  # Cálculo del tiempo transcurrido\n",
        "  tiempo_transcurrido = fin - inicio\n",
        "  print(f\"La función con {i} componentes tardó {tiempo_transcurrido} segundos en ejecutarse.\")"
      ],
      "metadata": {
        "colab": {
          "base_uri": "https://localhost:8080/"
        },
        "id": "JxuP77iM8J5K",
        "outputId": "eabc3284-b318-4e74-f237-95e1bf0daa47"
      },
      "execution_count": null,
      "outputs": [
        {
          "output_type": "stream",
          "name": "stdout",
          "text": [
            "La función con 1 componentes tardó 0.2090749740600586 segundos en ejecutarse.\n",
            "La función con 2 componentes tardó 0.2143993377685547 segundos en ejecutarse.\n",
            "La función con 3 componentes tardó 0.21631264686584473 segundos en ejecutarse.\n",
            "La función con 4 componentes tardó 0.23472070693969727 segundos en ejecutarse.\n"
          ]
        }
      ]
    },
    {
      "cell_type": "markdown",
      "source": [
        "Viendo que la complejidad de la función `clasificarVino` aumenta con el número de componentes, ya que al proyectar las matrices $W$ de mayor dimensión y recorrerlas la complejidad aumenta y considerando que la varianza acumulada del modelo con 2 componentes es de 55%. Tomamos la decisión de que la mejor opción para clasificar vinos es el modelo con 2 componentes, ya que tiene una accuracy similar a los modelos de 3 y 4 componentes, es más eficiente y es un indicador que toma en cuenta como varían mas de la mitad de nuestros datos."
      ],
      "metadata": {
        "id": "ECf_tYOZAdz7"
      }
    },
    {
      "cell_type": "markdown",
      "source": [
        "### c) Matriz de confusión\n",
        "una matriz de confusión, es una matriz de dos dimensiones, la cual\n",
        "tiene en una de sus direcciones los valores de testeo verdaderos y en la otra dirección los valores estimados.\n",
        "\n",
        "Para esta ocasión decidimos comparar entre dos categorias de vinos la 1 y la 2. En la dirección (arriba-abajo) se encuentran los valores de testeo reales y en la dirección (izquierda-derecha) se encuentran los valores predichos por el modelo."
      ],
      "metadata": {
        "id": "tikm7Nj50MQP"
      }
    },
    {
      "cell_type": "code",
      "source": [
        "avals_t, avecs_t =  n_maximos(covarianza(train),x0,13) #Obtenemos los autovectores\n",
        "W = armar_W(2, avecs_t) #Creamos nuestra matriz W\n",
        "#Matriz de confusion.\n",
        "def confusion():\n",
        "  res = np.zeros((2,2))\n",
        "  for i in range(len(test)):\n",
        "    if clasificarVino(test[i],W, 3, train) == y[posicion(test[i], var_dependientes_normalizados_mat)] and y[posicion(test[i], var_dependientes_normalizados_mat)] == 1: #Era 1 y clasifico bien\n",
        "      res[0][0] += 1\n",
        "    elif clasificarVino(test[i],W, 3, train) == y[posicion(test[i], var_dependientes_normalizados_mat)] and y[posicion(test[i], var_dependientes_normalizados_mat)] == 2: #Era 2 y clasifico bien\n",
        "      res[1][1] += 1\n",
        "    elif clasificarVino(test[i],W, 3, train) != y[posicion(test[i], var_dependientes_normalizados_mat)] and y[posicion(test[i], var_dependientes_normalizados_mat)] == 1: #Era 1 y el modelo clasifico mal\n",
        "      res[0][1] += 1\n",
        "    elif clasificarVino(test[i],W, 3, train) != y[posicion(test[i], var_dependientes_normalizados_mat)] and y[posicion(test[i], var_dependientes_normalizados_mat)] == 2: #Era 2 y el modelo clasifico bien\n",
        "      res[1][0] += 1\n",
        "  return res\n",
        "print(\"Matriz de confusion: \\n\",confusion())"
      ],
      "metadata": {
        "id": "td_6XjnIzB2i",
        "colab": {
          "base_uri": "https://localhost:8080/"
        },
        "outputId": "58456d12-1d60-40c6-b04f-b63566ca2120"
      },
      "execution_count": null,
      "outputs": [
        {
          "output_type": "stream",
          "name": "stdout",
          "text": [
            "Matriz de confusion: \n",
            " [[10.  0.]\n",
            " [ 1. 15.]]\n"
          ]
        }
      ]
    },
    {
      "cell_type": "markdown",
      "source": [
        "Observando la matriz de confusión podemos ver que nuestro modelo KNN, es bastante bueno clasificando a nuestros datos porque tuvo una baja cantidad de desaciertos. Por lo que confirmamos que la decisión de quedarnos con la matriz de 2 componentes fue la adecuada."
      ],
      "metadata": {
        "id": "T1pKiTnaHLpW"
      }
    },
    {
      "cell_type": "markdown",
      "source": [
        "## Conclusiones Finales\n",
        "Finalizado el proceso de normalización de nuestros datos, modelado y evaluación de nuestros modelos, llegamos a las siguientes conclusiones:\n",
        "\n",
        "* Es importante normalizar nuestros datos poque si las unidades de medida en diferentes atributos son distintas, los atributos con magnitudes mayores pueden dominar la variabilidad y tener un impacto desproporcionado en los componentes principales. La normalización asegura que todas los atributos tengan una escala comparable.\n",
        "\n",
        "* La reduccion en componentes principales de nuestros datos mejora la eficiencia de nuestros modelos predictivos, y es util para clasificar nuevos vinos de una forma mas eficiente y rápida.\n",
        "* El modelo con 2 componentes acumula más de la mitad de la varianza acumulada de nuestros datos. Mientras que el modelo de 3 componentes aumenta tan solo un 10% la varianza acumulada.\n",
        "* La performance de nuestro modelo KNN no es buena para el modelo con 1 sola componente, y tiende a disminuir a partir de la cuarta componente.\n",
        "* El mejor modelo para clasificar vinos con una accuracy aceptable y de forma rápida es el modelo con 2 componentes."
      ],
      "metadata": {
        "id": "R3i1WhJcgGV7"
      }
    },
    {
      "cell_type": "code",
      "source": [
        "print(var_dependientes_normalizados_mat)"
      ],
      "metadata": {
        "id": "0QxPctqExBOY"
      },
      "execution_count": null,
      "outputs": []
    },
    {
      "cell_type": "code",
      "source": [],
      "metadata": {
        "id": "0cvDrvGKxEBg"
      },
      "execution_count": null,
      "outputs": []
    }
  ]
}
